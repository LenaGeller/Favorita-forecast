{
  "nbformat": 4,
  "nbformat_minor": 0,
  "metadata": {
    "colab": {
      "provenance": [],
      "toc_visible": true,
      "authorship_tag": "ABX9TyOtHhWHB/a1O7QxL6tTC9WR",
      "include_colab_link": true
    },
    "kernelspec": {
      "name": "python3",
      "display_name": "Python 3"
    },
    "language_info": {
      "name": "python"
    }
  },
  "cells": [
    {
      "cell_type": "markdown",
      "metadata": {
        "id": "view-in-github",
        "colab_type": "text"
      },
      "source": [
        "<a href=\"https://colab.research.google.com/github/LenaGeller/retail_demand_analysis/blob/Notebooks/Best_EDA_and_Feature_Engineering_Perishable.ipynb\" target=\"_parent\"><img src=\"https://colab.research.google.com/assets/colab-badge.svg\" alt=\"Open In Colab\"/></a>"
      ]
    },
    {
      "cell_type": "markdown",
      "source": [
        "Please note: This notebook uses relative paths (e. g. \"Data/produce2015-2017_prepared.csv\"). To run it in Google Colab, please clone the repository or replace the path with the GitHub RAW link."
      ],
      "metadata": {
        "id": "EVVFEJse1Pzy"
      }
    },
    {
      "cell_type": "markdown",
      "source": [
        "# Data Overview"
      ],
      "metadata": {
        "id": "FVbdgLlZCrcc"
      }
    },
    {
      "cell_type": "code",
      "execution_count": null,
      "metadata": {
        "colab": {
          "base_uri": "https://localhost:8080/"
        },
        "id": "zz76EFv6GGU5",
        "outputId": "a6d56999-b35a-4f70-c231-926b74658c34"
      },
      "outputs": [
        {
          "output_type": "stream",
          "name": "stdout",
          "text": [
            "DataFrame reloaded, ready to go!\n"
          ]
        }
      ],
      "source": [
        "import pandas as pd, numpy as np, joblib\n",
        "import numpy as np\n",
        "from sklearn.model_selection import train_test_split\n",
        "from lightgbm import LGBMRegressor\n",
        "from google.colab import drive\n",
        "import matplotlib.pyplot as plt\n",
        "\n",
        "df_train = pd.read_csv(\"Data/produce2015-2017_prepared.csv\")\n",
        "print(\"DataFrame reloaded, ready to go!\")\n"
      ]
    },
    {
      "cell_type": "code",
      "source": [
        "df_train = df_train.drop(columns=[\"transactions\"])"
      ],
      "metadata": {
        "id": "yt2_Pi53sTgM"
      },
      "execution_count": null,
      "outputs": []
    },
    {
      "cell_type": "code",
      "source": [
        "df_train.head()"
      ],
      "metadata": {
        "colab": {
          "base_uri": "https://localhost:8080/",
          "height": 330
        },
        "id": "FlyLU3FphayV",
        "outputId": "c950d016-079a-489e-a297-f3fdeb278526"
      },
      "execution_count": null,
      "outputs": [
        {
          "output_type": "execute_result",
          "data": {
            "text/plain": [
              "   Unnamed: 0        date        id  store_nbr  item_nbr  unit_sales  \\\n",
              "0           0  2015-06-01  47899618          1   1473474     107.636   \n",
              "1           1  2015-06-02  47980434          1   1473474      93.536   \n",
              "2           2  2015-06-03  48060600          1   1473474     224.225   \n",
              "3           3  2015-06-04  48139479          1   1473474     111.914   \n",
              "4           4  2015-06-05  48216664          1   1473474     134.079   \n",
              "\n",
              "   onpromotion  year  month  day  day_of_week   city type  cluster  \\\n",
              "0        False  2015      6    1            0  Quito    D       13   \n",
              "1        False  2015      6    2            1  Quito    D       13   \n",
              "2         True  2015      6    3            2  Quito    D       13   \n",
              "3        False  2015      6    4            3  Quito    D       13   \n",
              "4        False  2015      6    5            4  Quito    D       13   \n",
              "\n",
              "   some_holiday  is_bridge  is_transfer  is_work_day  is_holiday  class  \n",
              "0         False      False        False        False       False   2014  \n",
              "1         False      False        False        False       False   2014  \n",
              "2         False      False        False        False       False   2014  \n",
              "3         False      False        False        False       False   2014  \n",
              "4         False      False        False        False       False   2014  "
            ],
            "text/html": [
              "\n",
              "  <div id=\"df-4be9ffa4-8aef-4789-bc82-051ad00a70d6\" class=\"colab-df-container\">\n",
              "    <div>\n",
              "<style scoped>\n",
              "    .dataframe tbody tr th:only-of-type {\n",
              "        vertical-align: middle;\n",
              "    }\n",
              "\n",
              "    .dataframe tbody tr th {\n",
              "        vertical-align: top;\n",
              "    }\n",
              "\n",
              "    .dataframe thead th {\n",
              "        text-align: right;\n",
              "    }\n",
              "</style>\n",
              "<table border=\"1\" class=\"dataframe\">\n",
              "  <thead>\n",
              "    <tr style=\"text-align: right;\">\n",
              "      <th></th>\n",
              "      <th>Unnamed: 0</th>\n",
              "      <th>date</th>\n",
              "      <th>id</th>\n",
              "      <th>store_nbr</th>\n",
              "      <th>item_nbr</th>\n",
              "      <th>unit_sales</th>\n",
              "      <th>onpromotion</th>\n",
              "      <th>year</th>\n",
              "      <th>month</th>\n",
              "      <th>day</th>\n",
              "      <th>day_of_week</th>\n",
              "      <th>city</th>\n",
              "      <th>type</th>\n",
              "      <th>cluster</th>\n",
              "      <th>some_holiday</th>\n",
              "      <th>is_bridge</th>\n",
              "      <th>is_transfer</th>\n",
              "      <th>is_work_day</th>\n",
              "      <th>is_holiday</th>\n",
              "      <th>class</th>\n",
              "    </tr>\n",
              "  </thead>\n",
              "  <tbody>\n",
              "    <tr>\n",
              "      <th>0</th>\n",
              "      <td>0</td>\n",
              "      <td>2015-06-01</td>\n",
              "      <td>47899618</td>\n",
              "      <td>1</td>\n",
              "      <td>1473474</td>\n",
              "      <td>107.636</td>\n",
              "      <td>False</td>\n",
              "      <td>2015</td>\n",
              "      <td>6</td>\n",
              "      <td>1</td>\n",
              "      <td>0</td>\n",
              "      <td>Quito</td>\n",
              "      <td>D</td>\n",
              "      <td>13</td>\n",
              "      <td>False</td>\n",
              "      <td>False</td>\n",
              "      <td>False</td>\n",
              "      <td>False</td>\n",
              "      <td>False</td>\n",
              "      <td>2014</td>\n",
              "    </tr>\n",
              "    <tr>\n",
              "      <th>1</th>\n",
              "      <td>1</td>\n",
              "      <td>2015-06-02</td>\n",
              "      <td>47980434</td>\n",
              "      <td>1</td>\n",
              "      <td>1473474</td>\n",
              "      <td>93.536</td>\n",
              "      <td>False</td>\n",
              "      <td>2015</td>\n",
              "      <td>6</td>\n",
              "      <td>2</td>\n",
              "      <td>1</td>\n",
              "      <td>Quito</td>\n",
              "      <td>D</td>\n",
              "      <td>13</td>\n",
              "      <td>False</td>\n",
              "      <td>False</td>\n",
              "      <td>False</td>\n",
              "      <td>False</td>\n",
              "      <td>False</td>\n",
              "      <td>2014</td>\n",
              "    </tr>\n",
              "    <tr>\n",
              "      <th>2</th>\n",
              "      <td>2</td>\n",
              "      <td>2015-06-03</td>\n",
              "      <td>48060600</td>\n",
              "      <td>1</td>\n",
              "      <td>1473474</td>\n",
              "      <td>224.225</td>\n",
              "      <td>True</td>\n",
              "      <td>2015</td>\n",
              "      <td>6</td>\n",
              "      <td>3</td>\n",
              "      <td>2</td>\n",
              "      <td>Quito</td>\n",
              "      <td>D</td>\n",
              "      <td>13</td>\n",
              "      <td>False</td>\n",
              "      <td>False</td>\n",
              "      <td>False</td>\n",
              "      <td>False</td>\n",
              "      <td>False</td>\n",
              "      <td>2014</td>\n",
              "    </tr>\n",
              "    <tr>\n",
              "      <th>3</th>\n",
              "      <td>3</td>\n",
              "      <td>2015-06-04</td>\n",
              "      <td>48139479</td>\n",
              "      <td>1</td>\n",
              "      <td>1473474</td>\n",
              "      <td>111.914</td>\n",
              "      <td>False</td>\n",
              "      <td>2015</td>\n",
              "      <td>6</td>\n",
              "      <td>4</td>\n",
              "      <td>3</td>\n",
              "      <td>Quito</td>\n",
              "      <td>D</td>\n",
              "      <td>13</td>\n",
              "      <td>False</td>\n",
              "      <td>False</td>\n",
              "      <td>False</td>\n",
              "      <td>False</td>\n",
              "      <td>False</td>\n",
              "      <td>2014</td>\n",
              "    </tr>\n",
              "    <tr>\n",
              "      <th>4</th>\n",
              "      <td>4</td>\n",
              "      <td>2015-06-05</td>\n",
              "      <td>48216664</td>\n",
              "      <td>1</td>\n",
              "      <td>1473474</td>\n",
              "      <td>134.079</td>\n",
              "      <td>False</td>\n",
              "      <td>2015</td>\n",
              "      <td>6</td>\n",
              "      <td>5</td>\n",
              "      <td>4</td>\n",
              "      <td>Quito</td>\n",
              "      <td>D</td>\n",
              "      <td>13</td>\n",
              "      <td>False</td>\n",
              "      <td>False</td>\n",
              "      <td>False</td>\n",
              "      <td>False</td>\n",
              "      <td>False</td>\n",
              "      <td>2014</td>\n",
              "    </tr>\n",
              "  </tbody>\n",
              "</table>\n",
              "</div>\n",
              "    <div class=\"colab-df-buttons\">\n",
              "\n",
              "  <div class=\"colab-df-container\">\n",
              "    <button class=\"colab-df-convert\" onclick=\"convertToInteractive('df-4be9ffa4-8aef-4789-bc82-051ad00a70d6')\"\n",
              "            title=\"Convert this dataframe to an interactive table.\"\n",
              "            style=\"display:none;\">\n",
              "\n",
              "  <svg xmlns=\"http://www.w3.org/2000/svg\" height=\"24px\" viewBox=\"0 -960 960 960\">\n",
              "    <path d=\"M120-120v-720h720v720H120Zm60-500h600v-160H180v160Zm220 220h160v-160H400v160Zm0 220h160v-160H400v160ZM180-400h160v-160H180v160Zm440 0h160v-160H620v160ZM180-180h160v-160H180v160Zm440 0h160v-160H620v160Z\"/>\n",
              "  </svg>\n",
              "    </button>\n",
              "\n",
              "  <style>\n",
              "    .colab-df-container {\n",
              "      display:flex;\n",
              "      gap: 12px;\n",
              "    }\n",
              "\n",
              "    .colab-df-convert {\n",
              "      background-color: #E8F0FE;\n",
              "      border: none;\n",
              "      border-radius: 50%;\n",
              "      cursor: pointer;\n",
              "      display: none;\n",
              "      fill: #1967D2;\n",
              "      height: 32px;\n",
              "      padding: 0 0 0 0;\n",
              "      width: 32px;\n",
              "    }\n",
              "\n",
              "    .colab-df-convert:hover {\n",
              "      background-color: #E2EBFA;\n",
              "      box-shadow: 0px 1px 2px rgba(60, 64, 67, 0.3), 0px 1px 3px 1px rgba(60, 64, 67, 0.15);\n",
              "      fill: #174EA6;\n",
              "    }\n",
              "\n",
              "    .colab-df-buttons div {\n",
              "      margin-bottom: 4px;\n",
              "    }\n",
              "\n",
              "    [theme=dark] .colab-df-convert {\n",
              "      background-color: #3B4455;\n",
              "      fill: #D2E3FC;\n",
              "    }\n",
              "\n",
              "    [theme=dark] .colab-df-convert:hover {\n",
              "      background-color: #434B5C;\n",
              "      box-shadow: 0px 1px 3px 1px rgba(0, 0, 0, 0.15);\n",
              "      filter: drop-shadow(0px 1px 2px rgba(0, 0, 0, 0.3));\n",
              "      fill: #FFFFFF;\n",
              "    }\n",
              "  </style>\n",
              "\n",
              "    <script>\n",
              "      const buttonEl =\n",
              "        document.querySelector('#df-4be9ffa4-8aef-4789-bc82-051ad00a70d6 button.colab-df-convert');\n",
              "      buttonEl.style.display =\n",
              "        google.colab.kernel.accessAllowed ? 'block' : 'none';\n",
              "\n",
              "      async function convertToInteractive(key) {\n",
              "        const element = document.querySelector('#df-4be9ffa4-8aef-4789-bc82-051ad00a70d6');\n",
              "        const dataTable =\n",
              "          await google.colab.kernel.invokeFunction('convertToInteractive',\n",
              "                                                    [key], {});\n",
              "        if (!dataTable) return;\n",
              "\n",
              "        const docLinkHtml = 'Like what you see? Visit the ' +\n",
              "          '<a target=\"_blank\" href=https://colab.research.google.com/notebooks/data_table.ipynb>data table notebook</a>'\n",
              "          + ' to learn more about interactive tables.';\n",
              "        element.innerHTML = '';\n",
              "        dataTable['output_type'] = 'display_data';\n",
              "        await google.colab.output.renderOutput(dataTable, element);\n",
              "        const docLink = document.createElement('div');\n",
              "        docLink.innerHTML = docLinkHtml;\n",
              "        element.appendChild(docLink);\n",
              "      }\n",
              "    </script>\n",
              "  </div>\n",
              "\n",
              "\n",
              "    <div id=\"df-c1c57885-7e83-4536-9c48-6e13c65c6817\">\n",
              "      <button class=\"colab-df-quickchart\" onclick=\"quickchart('df-c1c57885-7e83-4536-9c48-6e13c65c6817')\"\n",
              "                title=\"Suggest charts\"\n",
              "                style=\"display:none;\">\n",
              "\n",
              "<svg xmlns=\"http://www.w3.org/2000/svg\" height=\"24px\"viewBox=\"0 0 24 24\"\n",
              "     width=\"24px\">\n",
              "    <g>\n",
              "        <path d=\"M19 3H5c-1.1 0-2 .9-2 2v14c0 1.1.9 2 2 2h14c1.1 0 2-.9 2-2V5c0-1.1-.9-2-2-2zM9 17H7v-7h2v7zm4 0h-2V7h2v10zm4 0h-2v-4h2v4z\"/>\n",
              "    </g>\n",
              "</svg>\n",
              "      </button>\n",
              "\n",
              "<style>\n",
              "  .colab-df-quickchart {\n",
              "      --bg-color: #E8F0FE;\n",
              "      --fill-color: #1967D2;\n",
              "      --hover-bg-color: #E2EBFA;\n",
              "      --hover-fill-color: #174EA6;\n",
              "      --disabled-fill-color: #AAA;\n",
              "      --disabled-bg-color: #DDD;\n",
              "  }\n",
              "\n",
              "  [theme=dark] .colab-df-quickchart {\n",
              "      --bg-color: #3B4455;\n",
              "      --fill-color: #D2E3FC;\n",
              "      --hover-bg-color: #434B5C;\n",
              "      --hover-fill-color: #FFFFFF;\n",
              "      --disabled-bg-color: #3B4455;\n",
              "      --disabled-fill-color: #666;\n",
              "  }\n",
              "\n",
              "  .colab-df-quickchart {\n",
              "    background-color: var(--bg-color);\n",
              "    border: none;\n",
              "    border-radius: 50%;\n",
              "    cursor: pointer;\n",
              "    display: none;\n",
              "    fill: var(--fill-color);\n",
              "    height: 32px;\n",
              "    padding: 0;\n",
              "    width: 32px;\n",
              "  }\n",
              "\n",
              "  .colab-df-quickchart:hover {\n",
              "    background-color: var(--hover-bg-color);\n",
              "    box-shadow: 0 1px 2px rgba(60, 64, 67, 0.3), 0 1px 3px 1px rgba(60, 64, 67, 0.15);\n",
              "    fill: var(--button-hover-fill-color);\n",
              "  }\n",
              "\n",
              "  .colab-df-quickchart-complete:disabled,\n",
              "  .colab-df-quickchart-complete:disabled:hover {\n",
              "    background-color: var(--disabled-bg-color);\n",
              "    fill: var(--disabled-fill-color);\n",
              "    box-shadow: none;\n",
              "  }\n",
              "\n",
              "  .colab-df-spinner {\n",
              "    border: 2px solid var(--fill-color);\n",
              "    border-color: transparent;\n",
              "    border-bottom-color: var(--fill-color);\n",
              "    animation:\n",
              "      spin 1s steps(1) infinite;\n",
              "  }\n",
              "\n",
              "  @keyframes spin {\n",
              "    0% {\n",
              "      border-color: transparent;\n",
              "      border-bottom-color: var(--fill-color);\n",
              "      border-left-color: var(--fill-color);\n",
              "    }\n",
              "    20% {\n",
              "      border-color: transparent;\n",
              "      border-left-color: var(--fill-color);\n",
              "      border-top-color: var(--fill-color);\n",
              "    }\n",
              "    30% {\n",
              "      border-color: transparent;\n",
              "      border-left-color: var(--fill-color);\n",
              "      border-top-color: var(--fill-color);\n",
              "      border-right-color: var(--fill-color);\n",
              "    }\n",
              "    40% {\n",
              "      border-color: transparent;\n",
              "      border-right-color: var(--fill-color);\n",
              "      border-top-color: var(--fill-color);\n",
              "    }\n",
              "    60% {\n",
              "      border-color: transparent;\n",
              "      border-right-color: var(--fill-color);\n",
              "    }\n",
              "    80% {\n",
              "      border-color: transparent;\n",
              "      border-right-color: var(--fill-color);\n",
              "      border-bottom-color: var(--fill-color);\n",
              "    }\n",
              "    90% {\n",
              "      border-color: transparent;\n",
              "      border-bottom-color: var(--fill-color);\n",
              "    }\n",
              "  }\n",
              "</style>\n",
              "\n",
              "      <script>\n",
              "        async function quickchart(key) {\n",
              "          const quickchartButtonEl =\n",
              "            document.querySelector('#' + key + ' button');\n",
              "          quickchartButtonEl.disabled = true;  // To prevent multiple clicks.\n",
              "          quickchartButtonEl.classList.add('colab-df-spinner');\n",
              "          try {\n",
              "            const charts = await google.colab.kernel.invokeFunction(\n",
              "                'suggestCharts', [key], {});\n",
              "          } catch (error) {\n",
              "            console.error('Error during call to suggestCharts:', error);\n",
              "          }\n",
              "          quickchartButtonEl.classList.remove('colab-df-spinner');\n",
              "          quickchartButtonEl.classList.add('colab-df-quickchart-complete');\n",
              "        }\n",
              "        (() => {\n",
              "          let quickchartButtonEl =\n",
              "            document.querySelector('#df-c1c57885-7e83-4536-9c48-6e13c65c6817 button');\n",
              "          quickchartButtonEl.style.display =\n",
              "            google.colab.kernel.accessAllowed ? 'block' : 'none';\n",
              "        })();\n",
              "      </script>\n",
              "    </div>\n",
              "\n",
              "    </div>\n",
              "  </div>\n"
            ],
            "application/vnd.google.colaboratory.intrinsic+json": {
              "type": "dataframe",
              "variable_name": "df_train",
              "summary": "{\n  \"name\": \"df_train\",\n  \"rows\": 77841,\n  \"fields\": [\n    {\n      \"column\": \"Unnamed: 0\",\n      \"properties\": {\n        \"dtype\": \"number\",\n        \"std\": 22470,\n        \"min\": 0,\n        \"max\": 77840,\n        \"num_unique_values\": 77841,\n        \"samples\": [\n          10093,\n          76782,\n          58361\n        ],\n        \"semantic_type\": \"\",\n        \"description\": \"\"\n      }\n    },\n    {\n      \"column\": \"date\",\n      \"properties\": {\n        \"dtype\": \"object\",\n        \"num_unique_values\": 670,\n        \"samples\": [\n          \"2016-05-27\",\n          \"2015-11-06\",\n          \"2016-09-23\"\n        ],\n        \"semantic_type\": \"\",\n        \"description\": \"\"\n      }\n    },\n    {\n      \"column\": \"id\",\n      \"properties\": {\n        \"dtype\": \"number\",\n        \"std\": 25712908,\n        \"min\": 0,\n        \"max\": 111007209,\n        \"num_unique_values\": 73209,\n        \"samples\": [\n          95488389,\n          96296296,\n          108757334\n        ],\n        \"semantic_type\": \"\",\n        \"description\": \"\"\n      }\n    },\n    {\n      \"column\": \"store_nbr\",\n      \"properties\": {\n        \"dtype\": \"number\",\n        \"std\": 16,\n        \"min\": 1,\n        \"max\": 54,\n        \"num_unique_values\": 52,\n        \"samples\": [\n          21,\n          43,\n          49\n        ],\n        \"semantic_type\": \"\",\n        \"description\": \"\"\n      }\n    },\n    {\n      \"column\": \"item_nbr\",\n      \"properties\": {\n        \"dtype\": \"number\",\n        \"std\": 98284,\n        \"min\": 1473474,\n        \"max\": 1695835,\n        \"num_unique_values\": 3,\n        \"samples\": [\n          1473474,\n          1503844,\n          1695835\n        ],\n        \"semantic_type\": \"\",\n        \"description\": \"\"\n      }\n    },\n    {\n      \"column\": \"unit_sales\",\n      \"properties\": {\n        \"dtype\": \"number\",\n        \"std\": 144.89825848595052,\n        \"min\": 0.0,\n        \"max\": 1362.554,\n        \"num_unique_values\": 58965,\n        \"samples\": [\n          108.429,\n          81.757,\n          239.387\n        ],\n        \"semantic_type\": \"\",\n        \"description\": \"\"\n      }\n    },\n    {\n      \"column\": \"onpromotion\",\n      \"properties\": {\n        \"dtype\": \"boolean\",\n        \"num_unique_values\": 2,\n        \"samples\": [\n          true,\n          false\n        ],\n        \"semantic_type\": \"\",\n        \"description\": \"\"\n      }\n    },\n    {\n      \"column\": \"year\",\n      \"properties\": {\n        \"dtype\": \"number\",\n        \"std\": 0,\n        \"min\": 2015,\n        \"max\": 2017,\n        \"num_unique_values\": 3,\n        \"samples\": [\n          2015,\n          2016\n        ],\n        \"semantic_type\": \"\",\n        \"description\": \"\"\n      }\n    },\n    {\n      \"column\": \"month\",\n      \"properties\": {\n        \"dtype\": \"number\",\n        \"std\": 3,\n        \"min\": 1,\n        \"max\": 12,\n        \"num_unique_values\": 12,\n        \"samples\": [\n          4,\n          3\n        ],\n        \"semantic_type\": \"\",\n        \"description\": \"\"\n      }\n    },\n    {\n      \"column\": \"day\",\n      \"properties\": {\n        \"dtype\": \"number\",\n        \"std\": 8,\n        \"min\": 1,\n        \"max\": 31,\n        \"num_unique_values\": 31,\n        \"samples\": [\n          28,\n          16\n        ],\n        \"semantic_type\": \"\",\n        \"description\": \"\"\n      }\n    },\n    {\n      \"column\": \"day_of_week\",\n      \"properties\": {\n        \"dtype\": \"number\",\n        \"std\": 1,\n        \"min\": 0,\n        \"max\": 6,\n        \"num_unique_values\": 7,\n        \"samples\": [\n          0,\n          1\n        ],\n        \"semantic_type\": \"\",\n        \"description\": \"\"\n      }\n    },\n    {\n      \"column\": \"city\",\n      \"properties\": {\n        \"dtype\": \"category\",\n        \"num_unique_values\": 22,\n        \"samples\": [\n          \"Quito\",\n          \"Quevedo\"\n        ],\n        \"semantic_type\": \"\",\n        \"description\": \"\"\n      }\n    },\n    {\n      \"column\": \"type\",\n      \"properties\": {\n        \"dtype\": \"category\",\n        \"num_unique_values\": 5,\n        \"samples\": [\n          \"B\",\n          \"A\"\n        ],\n        \"semantic_type\": \"\",\n        \"description\": \"\"\n      }\n    },\n    {\n      \"column\": \"cluster\",\n      \"properties\": {\n        \"dtype\": \"number\",\n        \"std\": 4,\n        \"min\": 1,\n        \"max\": 17,\n        \"num_unique_values\": 17,\n        \"samples\": [\n          13,\n          8\n        ],\n        \"semantic_type\": \"\",\n        \"description\": \"\"\n      }\n    },\n    {\n      \"column\": \"some_holiday\",\n      \"properties\": {\n        \"dtype\": \"boolean\",\n        \"num_unique_values\": 2,\n        \"samples\": [\n          true,\n          false\n        ],\n        \"semantic_type\": \"\",\n        \"description\": \"\"\n      }\n    },\n    {\n      \"column\": \"is_bridge\",\n      \"properties\": {\n        \"dtype\": \"boolean\",\n        \"num_unique_values\": 2,\n        \"samples\": [\n          true,\n          false\n        ],\n        \"semantic_type\": \"\",\n        \"description\": \"\"\n      }\n    },\n    {\n      \"column\": \"is_transfer\",\n      \"properties\": {\n        \"dtype\": \"boolean\",\n        \"num_unique_values\": 2,\n        \"samples\": [\n          true,\n          false\n        ],\n        \"semantic_type\": \"\",\n        \"description\": \"\"\n      }\n    },\n    {\n      \"column\": \"is_work_day\",\n      \"properties\": {\n        \"dtype\": \"boolean\",\n        \"num_unique_values\": 2,\n        \"samples\": [\n          true,\n          false\n        ],\n        \"semantic_type\": \"\",\n        \"description\": \"\"\n      }\n    },\n    {\n      \"column\": \"is_holiday\",\n      \"properties\": {\n        \"dtype\": \"boolean\",\n        \"num_unique_values\": 2,\n        \"samples\": [\n          true,\n          false\n        ],\n        \"semantic_type\": \"\",\n        \"description\": \"\"\n      }\n    },\n    {\n      \"column\": \"class\",\n      \"properties\": {\n        \"dtype\": \"number\",\n        \"std\": 6,\n        \"min\": 2004,\n        \"max\": 2022,\n        \"num_unique_values\": 3,\n        \"samples\": [\n          2014,\n          2022\n        ],\n        \"semantic_type\": \"\",\n        \"description\": \"\"\n      }\n    }\n  ]\n}"
            }
          },
          "metadata": {},
          "execution_count": 13
        }
      ]
    },
    {
      "cell_type": "code",
      "source": [
        "df = df_train\n",
        "print(\"Shape:\", df.shape)\n",
        "print(df.dtypes)\n"
      ],
      "metadata": {
        "colab": {
          "base_uri": "https://localhost:8080/"
        },
        "id": "EsXen4HkJkjU",
        "outputId": "8528de94-2e34-4810-dccb-5ef1777619af"
      },
      "execution_count": null,
      "outputs": [
        {
          "output_type": "stream",
          "name": "stdout",
          "text": [
            "Shape: (77841, 19)\n",
            "date            datetime64[ns]\n",
            "id                       int64\n",
            "store_nbr                int64\n",
            "item_nbr                 int64\n",
            "unit_sales             float64\n",
            "onpromotion               bool\n",
            "year                     int32\n",
            "month                    int32\n",
            "day                      int32\n",
            "day_of_week              int32\n",
            "city                    object\n",
            "type                    object\n",
            "cluster                  int64\n",
            "some_holiday              bool\n",
            "is_bridge                 bool\n",
            "is_transfer               bool\n",
            "is_work_day               bool\n",
            "is_holiday                bool\n",
            "class                    int64\n",
            "dtype: object\n"
          ]
        }
      ]
    },
    {
      "cell_type": "markdown",
      "source": [
        "## EDA 2"
      ],
      "metadata": {
        "id": "SQFJkNAfKAyG"
      }
    },
    {
      "cell_type": "code",
      "source": [
        "top_items = (\n",
        "    df.groupby(\"item_nbr\")[\"unit_sales\"]\n",
        "    .sum()\n",
        "    .sort_values(ascending=False)\n",
        "    .head(10)\n",
        ")\n",
        "print(\"Top 10 Items:\\n\", top_items)\n",
        "\n",
        "df[\"date\"] = pd.to_datetime(df[\"date\"])\n",
        "\n",
        "\n",
        "seasonality = (\n",
        "    df.groupby(df[\"date\"].dt.month)[\"unit_sales\"]\n",
        "      .mean()\n",
        ")\n",
        "\n",
        "seasonality.plot(kind=\"bar\", figsize=(10,5))\n",
        "plt.title(\"Average Monthly Sales\")\n",
        "plt.xlabel(\"Month\")\n",
        "plt.ylabel(\"Avg. Unit Sales\")\n",
        "plt.show()\n",
        "\n",
        "promo_effect = df.groupby(\"onpromotion\")[\"unit_sales\"].mean()\n",
        "print(\"Avg. sales with/without promotion:\\n\", promo_effect)\n"
      ],
      "metadata": {
        "id": "f03yRsNwJ99V",
        "colab": {
          "base_uri": "https://localhost:8080/"
        },
        "outputId": "89de3ad3-a732-4c4d-d71a-6ce94e3e23d6"
      },
      "execution_count": null,
      "outputs": [
        {
          "output_type": "stream",
          "name": "stdout",
          "text": [
            "Top 10 Items:\n",
            " item_nbr\n",
            "1503844    4066013.636\n",
            "1473474    3215550.628\n",
            "1695835    1670230.467\n",
            "Name: unit_sales, dtype: float64\n"
          ]
        },
        {
          "output_type": "display_data",
          "data": {
            "text/plain": [
              "<Figure size 1000x500 with 1 Axes>"
            ],
            "image/png": "[encoded data removed]"
          },
          "metadata": {}
        },
        {
          "output_type": "stream",
          "name": "stdout",
          "text": [
            "Avg. sales with/without promotion:\n",
            " onpromotion\n",
            "False    108.21257\n",
            "True     157.68547\n",
            "Name: unit_sales, dtype: float64\n"
          ]
        }
      ]
    },
    {
      "cell_type": "markdown",
      "source": [
        "# Feature Engineering\n",
        "\n",
        "\n",
        "\n"
      ],
      "metadata": {
        "id": "8KEyxzkRmzwY"
      }
    },
    {
      "cell_type": "markdown",
      "source": [
        "Here we create rolling features (lags, moving averages, EWMs) and promotion-related features (days since last sale/promo) to capture demand patterns."
      ],
      "metadata": {
        "id": "Xjv7gZVIwvJI"
      }
    },
    {
      "cell_type": "code",
      "source": [
        "df = df.sort_values([\"store_nbr\", \"item_nbr\", \"date\"]).reset_index(drop=True)\n",
        "\n",
        "group_cols = [\"store_nbr\", \"item_nbr\"]\n",
        "y = \"unit_sales\"\n",
        "\n",
        "for lag in [1, 7, 14, 28]:\n",
        "    df[f\"lag_{lag}\"] = (\n",
        "        df.groupby(group_cols)[y].transform(lambda s: s.shift(lag))\n",
        "    )\n",
        "\n",
        "for w in [7, 14, 28]:\n",
        "    df[f\"roll_mean_{w}\"] = (\n",
        "        df.groupby(group_cols)[y].transform(lambda s: s.shift(1).rolling(w).mean())\n",
        "    )\n",
        "    df[f\"roll_std_{w}\"] = (\n",
        "        df.groupby(group_cols)[y].transform(lambda s: s.shift(1).rolling(w).std())\n",
        "    )\n",
        "\n",
        "for span in [7, 28]:\n",
        "    df[f\"ewm_{span}\"] = (\n",
        "        df.groupby(group_cols)[y].transform(lambda s: s.shift(1).ewm(span=span).mean())\n",
        "    )\n",
        "\n",
        "import numpy as np\n",
        "\n",
        "def days_since_last_true(b: pd.Series) -> pd.Series:\n",
        "    \"\"\"\n",
        "    b: bool-Serien (True = Ereignis heute)\n",
        "    Ergebnis: 0 am Ereignistag, 1 am Folgetag, ...; indextreu.\n",
        "    \"\"\"\n",
        "    n = len(b)\n",
        "    idx = np.arange(n)\n",
        "    last_true_pos = np.maximum.accumulate(np.where(b.to_numpy(), idx, -1))\n",
        "    return pd.Series(idx - last_true_pos, index=b.index)\n",
        "\n",
        "df[\"days_since_sale\"] = (\n",
        "    df.groupby(group_cols, group_keys=False)[y]\n",
        "      .apply(lambda s: days_since_last_true(s.gt(0)))\n",
        ")\n",
        "\n",
        "df[\"days_since_promo\"] = (\n",
        "    df.groupby(group_cols, group_keys=False)[\"onpromotion\"]\n",
        "      .apply(lambda s: days_since_last_true(s.fillna(False).astype(bool)))\n",
        ")\n"
      ],
      "metadata": {
        "id": "hIsymN_juI2K"
      },
      "execution_count": null,
      "outputs": []
    },
    {
      "cell_type": "code",
      "source": [
        "df.dtypes\n"
      ],
      "metadata": {
        "id": "3gsoHFVTpSHF",
        "colab": {
          "base_uri": "https://localhost:8080/",
          "height": 1000
        },
        "outputId": "15038889-9d73-401d-fa4a-7d52085ce2e9"
      },
      "execution_count": null,
      "outputs": [
        {
          "output_type": "execute_result",
          "data": {
            "text/plain": [
              "date                datetime64[ns]\n",
              "id                           int64\n",
              "store_nbr                    int64\n",
              "item_nbr                     int64\n",
              "unit_sales                 float64\n",
              "onpromotion                   bool\n",
              "year                         int32\n",
              "month                        int32\n",
              "day                          int32\n",
              "day_of_week                  int32\n",
              "city                        object\n",
              "type                        object\n",
              "cluster                      int64\n",
              "some_holiday                  bool\n",
              "is_bridge                     bool\n",
              "is_transfer                   bool\n",
              "is_work_day                   bool\n",
              "is_holiday                    bool\n",
              "class                        int64\n",
              "lag_1                      float64\n",
              "lag_7                      float64\n",
              "lag_14                     float64\n",
              "lag_28                     float64\n",
              "roll_mean_7                float64\n",
              "roll_std_7                 float64\n",
              "roll_mean_14               float64\n",
              "roll_std_14                float64\n",
              "roll_mean_28               float64\n",
              "roll_std_28                float64\n",
              "ewm_7                      float64\n",
              "ewm_28                     float64\n",
              "days_since_sale              int64\n",
              "days_since_promo             int64\n",
              "dtype: object"
            ],
            "text/html": [
              "<div>\n",
              "<style scoped>\n",
              "    .dataframe tbody tr th:only-of-type {\n",
              "        vertical-align: middle;\n",
              "    }\n",
              "\n",
              "    .dataframe tbody tr th {\n",
              "        vertical-align: top;\n",
              "    }\n",
              "\n",
              "    .dataframe thead th {\n",
              "        text-align: right;\n",
              "    }\n",
              "</style>\n",
              "<table border=\"1\" class=\"dataframe\">\n",
              "  <thead>\n",
              "    <tr style=\"text-align: right;\">\n",
              "      <th></th>\n",
              "      <th>0</th>\n",
              "    </tr>\n",
              "  </thead>\n",
              "  <tbody>\n",
              "    <tr>\n",
              "      <th>date</th>\n",
              "      <td>datetime64[ns]</td>\n",
              "    </tr>\n",
              "    <tr>\n",
              "      <th>id</th>\n",
              "      <td>int64</td>\n",
              "    </tr>\n",
              "    <tr>\n",
              "      <th>store_nbr</th>\n",
              "      <td>int64</td>\n",
              "    </tr>\n",
              "    <tr>\n",
              "      <th>item_nbr</th>\n",
              "      <td>int64</td>\n",
              "    </tr>\n",
              "    <tr>\n",
              "      <th>unit_sales</th>\n",
              "      <td>float64</td>\n",
              "    </tr>\n",
              "    <tr>\n",
              "      <th>onpromotion</th>\n",
              "      <td>bool</td>\n",
              "    </tr>\n",
              "    <tr>\n",
              "      <th>year</th>\n",
              "      <td>int32</td>\n",
              "    </tr>\n",
              "    <tr>\n",
              "      <th>month</th>\n",
              "      <td>int32</td>\n",
              "    </tr>\n",
              "    <tr>\n",
              "      <th>day</th>\n",
              "      <td>int32</td>\n",
              "    </tr>\n",
              "    <tr>\n",
              "      <th>day_of_week</th>\n",
              "      <td>int32</td>\n",
              "    </tr>\n",
              "    <tr>\n",
              "      <th>city</th>\n",
              "      <td>object</td>\n",
              "    </tr>\n",
              "    <tr>\n",
              "      <th>type</th>\n",
              "      <td>object</td>\n",
              "    </tr>\n",
              "    <tr>\n",
              "      <th>cluster</th>\n",
              "      <td>int64</td>\n",
              "    </tr>\n",
              "    <tr>\n",
              "      <th>some_holiday</th>\n",
              "      <td>bool</td>\n",
              "    </tr>\n",
              "    <tr>\n",
              "      <th>is_bridge</th>\n",
              "      <td>bool</td>\n",
              "    </tr>\n",
              "    <tr>\n",
              "      <th>is_transfer</th>\n",
              "      <td>bool</td>\n",
              "    </tr>\n",
              "    <tr>\n",
              "      <th>is_work_day</th>\n",
              "      <td>bool</td>\n",
              "    </tr>\n",
              "    <tr>\n",
              "      <th>is_holiday</th>\n",
              "      <td>bool</td>\n",
              "    </tr>\n",
              "    <tr>\n",
              "      <th>class</th>\n",
              "      <td>int64</td>\n",
              "    </tr>\n",
              "    <tr>\n",
              "      <th>lag_1</th>\n",
              "      <td>float64</td>\n",
              "    </tr>\n",
              "    <tr>\n",
              "      <th>lag_7</th>\n",
              "      <td>float64</td>\n",
              "    </tr>\n",
              "    <tr>\n",
              "      <th>lag_14</th>\n",
              "      <td>float64</td>\n",
              "    </tr>\n",
              "    <tr>\n",
              "      <th>lag_28</th>\n",
              "      <td>float64</td>\n",
              "    </tr>\n",
              "    <tr>\n",
              "      <th>roll_mean_7</th>\n",
              "      <td>float64</td>\n",
              "    </tr>\n",
              "    <tr>\n",
              "      <th>roll_std_7</th>\n",
              "      <td>float64</td>\n",
              "    </tr>\n",
              "    <tr>\n",
              "      <th>roll_mean_14</th>\n",
              "      <td>float64</td>\n",
              "    </tr>\n",
              "    <tr>\n",
              "      <th>roll_std_14</th>\n",
              "      <td>float64</td>\n",
              "    </tr>\n",
              "    <tr>\n",
              "      <th>roll_mean_28</th>\n",
              "      <td>float64</td>\n",
              "    </tr>\n",
              "    <tr>\n",
              "      <th>roll_std_28</th>\n",
              "      <td>float64</td>\n",
              "    </tr>\n",
              "    <tr>\n",
              "      <th>ewm_7</th>\n",
              "      <td>float64</td>\n",
              "    </tr>\n",
              "    <tr>\n",
              "      <th>ewm_28</th>\n",
              "      <td>float64</td>\n",
              "    </tr>\n",
              "    <tr>\n",
              "      <th>days_since_sale</th>\n",
              "      <td>int64</td>\n",
              "    </tr>\n",
              "    <tr>\n",
              "      <th>days_since_promo</th>\n",
              "      <td>int64</td>\n",
              "    </tr>\n",
              "  </tbody>\n",
              "</table>\n",
              "</div><br><label><b>dtype:</b> object</label>"
            ]
          },
          "metadata": {},
          "execution_count": 30
        }
      ]
    },
    {
      "cell_type": "markdown",
      "source": [
        "Here we add calendar features (month/quarter markers, special month days), holiday proximity features, and promotion-based aggregations to capture seasonality and event effects."
      ],
      "metadata": {
        "id": "xuSKdbBMxTT8"
      }
    },
    {
      "cell_type": "code",
      "source": [
        "import numpy as np\n",
        "import pandas as pd\n",
        "\n",
        "df[\"date\"] = pd.to_datetime(df[\"date\"])\n",
        "df = df.sort_values([\"store_nbr\", \"item_nbr\", \"date\"])\n",
        "\n",
        "dt = df[\"date\"]\n",
        "df[\"weekofyear\"]    = dt.dt.isocalendar().week.astype(\"int16\")\n",
        "df[\"quarter\"]       = dt.dt.quarter.astype(\"int8\")\n",
        "df[\"is_month_end\"]  = dt.dt.is_month_end.astype(bool)\n",
        "df[\"is_month_start\"]= dt.dt.is_month_start.astype(bool)\n",
        "\n",
        "for d in [5, 10, 15, 20, 25, 30]:\n",
        "    df[f\"day_is_{d}\"] = (dt.dt.day == d)\n",
        "\n",
        "any_holiday = (df[\"is_holiday\"])\n",
        "\n",
        "def _days_since_true(s: pd.Series) -> pd.Series:\n",
        "    n = len(s); idx = np.arange(n)\n",
        "    last_pos = np.maximum.accumulate(np.where(s.to_numpy(), idx, -1))\n",
        "    return pd.Series(idx - last_pos, index=s.index)\n",
        "\n",
        "def _days_to_next_true(s: pd.Series) -> pd.Series:\n",
        "    rev = s.iloc[::-1]\n",
        "    nxt = _days_since_true(rev)\n",
        "    return nxt.iloc[::-1]\n",
        "\n",
        "tmp = any_holiday.groupby(df[\"date\"])\n",
        "date_to_since = _days_since_true(tmp.transform(\"max\"))\n",
        "date_to_next  = _days_to_next_true(tmp.transform(\"max\"))\n",
        "\n",
        "df[\"days_since_holiday\"] = date_to_since\n",
        "df[\"days_to_next_holiday\"] = date_to_next\n",
        "df['first_open_after_holiday'] = (df['days_since_holiday'] == 1)\n",
        "df[\"second_day_after_holiday\"] = (df[\"days_since_holiday\"] == 2)\n",
        "df[\"third_day_after_holiday\"] = (df[\"days_since_holiday\"] == 3)\n",
        "df[\"near_holiday_3\"] = (df[[\"days_since_holiday\",\"days_to_next_holiday\"]].min(axis=1) <= 3)\n",
        "df[\"near_holiday_7\"] = (df[[\"days_since_holiday\",\"days_to_next_holiday\"]].min(axis=1) <= 7)\n",
        "\n",
        "\n",
        "for w in [7, 14]:\n",
        "    df[f\"promo_rollsum_{w}\"] = (\n",
        "        df.groupby([\"store_nbr\",\"item_nbr\"])[\"onpromotion\"]\n",
        "            .transform(lambda s: s.shift(1).rolling(w).sum())\n",
        "            .astype(\"float32\")\n",
        "    )\n",
        "\n",
        "df[\"is_weekend\"] = (dt.dt.dayofweek >= 5)\n",
        "df[\"promo_x_weekend\"] = (df[\"onpromotion\"] & df[\"is_weekend\"])\n",
        "\n",
        "print(df.filter(regex=\"weekofyear|quarter|is_month_|day_is_|holiday|promo_\").head())\n"
      ],
      "metadata": {
        "colab": {
          "base_uri": "https://localhost:8080/"
        },
        "id": "k38Vf1mxx-0u",
        "outputId": "d4869904-025c-4206-8a22-0d94a5e726d8"
      },
      "execution_count": null,
      "outputs": [
        {
          "output_type": "stream",
          "name": "stdout",
          "text": [
            "   some_holiday  is_holiday  weekofyear  quarter  is_month_end  \\\n",
            "0         False       False          23        2         False   \n",
            "1         False       False          23        2         False   \n",
            "2         False       False          23        2         False   \n",
            "3         False       False          23        2         False   \n",
            "4         False       False          23        2         False   \n",
            "\n",
            "   is_month_start  day_is_5  day_is_10  day_is_15  day_is_20  ...  \\\n",
            "0            True     False      False      False      False  ...   \n",
            "1           False     False      False      False      False  ...   \n",
            "2           False     False      False      False      False  ...   \n",
            "3           False     False      False      False      False  ...   \n",
            "4           False      True      False      False      False  ...   \n",
            "\n",
            "   days_since_holiday  days_to_next_holiday  first_open_after_holiday  \\\n",
            "0                   1                    16                      True   \n",
            "1                   2                    15                     False   \n",
            "2                   3                    14                     False   \n",
            "3                   4                    13                     False   \n",
            "4                   5                    12                     False   \n",
            "\n",
            "   second_day_after_holiday  third_day_after_holiday  near_holiday_3  \\\n",
            "0                     False                    False            True   \n",
            "1                      True                    False            True   \n",
            "2                     False                     True            True   \n",
            "3                     False                    False           False   \n",
            "4                     False                    False           False   \n",
            "\n",
            "   near_holiday_7  promo_rollsum_7  promo_rollsum_14  promo_x_weekend  \n",
            "0            True              NaN               NaN            False  \n",
            "1            True              NaN               NaN            False  \n",
            "2            True              NaN               NaN            False  \n",
            "3            True              NaN               NaN            False  \n",
            "4            True              NaN               NaN            False  \n",
            "\n",
            "[5 rows x 22 columns]\n"
          ]
        }
      ]
    },
    {
      "cell_type": "code",
      "source": [
        "for col in [\"city\",  \"type\", \"cluster\"]:\n",
        "    df[col] = df[col].astype(\"category\")\n"
      ],
      "metadata": {
        "id": "8ZCEAckge7q5"
      },
      "execution_count": null,
      "outputs": []
    },
    {
      "cell_type": "markdown",
      "source": [
        "Baseline-Sales/Item"
      ],
      "metadata": {
        "id": "ivVBIkxvyHfw"
      }
    },
    {
      "cell_type": "code",
      "source": [
        "df[\"item_avg_sales\"] = (\n",
        "    df.groupby(\"item_nbr\")[\"unit_sales\"]\n",
        "      .transform(\"mean\")\n",
        "      .astype(\"float32\")\n",
        ")\n",
        "\n",
        "\n",
        "print(df[[\"date\", \"item_nbr\", \"unit_sales\", \"item_avg_sales\"]].head(10))\n",
        "\n"
      ],
      "metadata": {
        "id": "eNs6NE3KfRLJ",
        "colab": {
          "base_uri": "https://localhost:8080/"
        },
        "outputId": "fa4c1ce0-0560-43b3-d591-2d2d05c4b8c2"
      },
      "execution_count": null,
      "outputs": [
        {
          "output_type": "stream",
          "name": "stdout",
          "text": [
            "        date  item_nbr  unit_sales  item_avg_sales\n",
            "0 2015-06-01   1473474     107.636       97.885864\n",
            "1 2015-06-02   1473474      93.536       97.885864\n",
            "2 2015-06-03   1473474     224.225       97.885864\n",
            "3 2015-06-04   1473474     111.914       97.885864\n",
            "4 2015-06-05   1473474     134.079       97.885864\n",
            "5 2015-06-06   1473474     133.312       97.885864\n",
            "6 2015-06-07   1473474      51.073       97.885864\n",
            "7 2015-06-08   1473474     143.291       97.885864\n",
            "8 2015-06-09   1473474     106.609       97.885864\n",
            "9 2015-06-10   1473474     176.000       97.885864\n"
          ]
        }
      ]
    },
    {
      "cell_type": "markdown",
      "source": [
        "Season Features"
      ],
      "metadata": {
        "id": "-ri_khOFyN40"
      }
    },
    {
      "cell_type": "code",
      "source": [
        "df[\"month_sin\"] = np.sin(2 * np.pi * df[\"month\"] / 12)\n",
        "df[\"month_cos\"] = np.cos(2 * np.pi * df[\"month\"] / 12)\n",
        "\n"
      ],
      "metadata": {
        "id": "5i2dCwIdSEZ4"
      },
      "execution_count": null,
      "outputs": []
    },
    {
      "cell_type": "code",
      "source": [
        "df.info()"
      ],
      "metadata": {
        "colab": {
          "base_uri": "https://localhost:8080/"
        },
        "id": "GiUdEfeH7-o0",
        "outputId": "e953e986-3974-4cce-b127-7c1910106b87"
      },
      "execution_count": null,
      "outputs": [
        {
          "output_type": "stream",
          "name": "stdout",
          "text": [
            "<class 'pandas.core.frame.DataFrame'>\n",
            "RangeIndex: 77841 entries, 0 to 77840\n",
            "Data columns (total 74 columns):\n",
            " #   Column                    Non-Null Count  Dtype         \n",
            "---  ------                    --------------  -----         \n",
            " 0   date                      77841 non-null  datetime64[ns]\n",
            " 1   id                        77841 non-null  int64         \n",
            " 2   store_nbr                 77841 non-null  int64         \n",
            " 3   item_nbr                  77841 non-null  int64         \n",
            " 4   unit_sales                77841 non-null  float64       \n",
            " 5   onpromotion               77841 non-null  bool          \n",
            " 6   year                      77841 non-null  int32         \n",
            " 7   month                     77841 non-null  int32         \n",
            " 8   day                       77841 non-null  int32         \n",
            " 9   day_of_week               77841 non-null  int32         \n",
            " 10  city                      77841 non-null  category      \n",
            " 11  type                      77841 non-null  category      \n",
            " 12  cluster                   77841 non-null  category      \n",
            " 13  some_holiday              77841 non-null  bool          \n",
            " 14  is_bridge                 77841 non-null  bool          \n",
            " 15  is_transfer               77841 non-null  bool          \n",
            " 16  is_work_day               77841 non-null  bool          \n",
            " 17  is_holiday                77841 non-null  bool          \n",
            " 18  class                     77841 non-null  int64         \n",
            " 19  lag_1                     77709 non-null  float64       \n",
            " 20  lag_7                     76941 non-null  float64       \n",
            " 21  lag_14                    76049 non-null  float64       \n",
            " 22  lag_28                    74274 non-null  float64       \n",
            " 23  roll_mean_7               76941 non-null  float64       \n",
            " 24  roll_std_7                76941 non-null  float64       \n",
            " 25  roll_mean_14              76049 non-null  float64       \n",
            " 26  roll_std_14               76049 non-null  float64       \n",
            " 27  roll_mean_28              74274 non-null  float64       \n",
            " 28  roll_std_28               74274 non-null  float64       \n",
            " 29  ewm_7                     77709 non-null  float64       \n",
            " 30  ewm_28                    77709 non-null  float64       \n",
            " 31  days_since_sale           77841 non-null  int64         \n",
            " 32  days_since_promo          77841 non-null  int64         \n",
            " 33  weekofyear                77841 non-null  int16         \n",
            " 34  quarter                   77841 non-null  int8          \n",
            " 35  is_month_end              77841 non-null  bool          \n",
            " 36  is_month_start            77841 non-null  bool          \n",
            " 37  day_is_5                  77841 non-null  bool          \n",
            " 38  day_is_10                 77841 non-null  bool          \n",
            " 39  day_is_15                 77841 non-null  bool          \n",
            " 40  day_is_20                 77841 non-null  bool          \n",
            " 41  day_is_25                 77841 non-null  bool          \n",
            " 42  day_is_30                 77841 non-null  bool          \n",
            " 43  days_since_holiday        77841 non-null  int64         \n",
            " 44  days_to_next_holiday      77841 non-null  int64         \n",
            " 45  first_open_after_holiday  77841 non-null  bool          \n",
            " 46  second_day_after_holiday  77841 non-null  bool          \n",
            " 47  third_day_after_holiday   77841 non-null  bool          \n",
            " 48  near_holiday_3            77841 non-null  bool          \n",
            " 49  near_holiday_7            77841 non-null  bool          \n",
            " 50  promo_rollsum_7           76941 non-null  float32       \n",
            " 51  promo_rollsum_14          76049 non-null  float32       \n",
            " 52  is_weekend                77841 non-null  bool          \n",
            " 53  promo_x_weekend           77841 non-null  bool          \n",
            " 54  item_avg_sales            77841 non-null  float32       \n",
            " 55  month_sin                 77841 non-null  float64       \n",
            " 56  month_cos                 77841 non-null  float64       \n",
            " 57  promo_lag_1               77838 non-null  object        \n",
            " 58  promo_lag_7               77820 non-null  object        \n",
            " 59  promo_x_dow               77841 non-null  int32         \n",
            " 60  dow_0                     77841 non-null  bool          \n",
            " 61  dow_1                     77841 non-null  bool          \n",
            " 62  dow_2                     77841 non-null  bool          \n",
            " 63  dow_3                     77841 non-null  bool          \n",
            " 64  dow_4                     77841 non-null  bool          \n",
            " 65  dow_5                     77841 non-null  bool          \n",
            " 66  dow_6                     77841 non-null  bool          \n",
            " 67  promo_dow_0               77841 non-null  bool          \n",
            " 68  promo_dow_1               77841 non-null  bool          \n",
            " 69  promo_dow_2               77841 non-null  bool          \n",
            " 70  promo_dow_3               77841 non-null  bool          \n",
            " 71  promo_dow_4               77841 non-null  bool          \n",
            " 72  promo_dow_5               77841 non-null  bool          \n",
            " 73  promo_dow_6               77841 non-null  bool          \n",
            "dtypes: bool(35), category(3), datetime64[ns](1), float32(3), float64(15), int16(1), int32(5), int64(8), int8(1), object(2)\n",
            "memory usage: 20.9+ MB\n"
          ]
        }
      ]
    },
    {
      "cell_type": "markdown",
      "source": [
        "### Holidays vs Workdays"
      ],
      "metadata": {
        "id": "kM7IWGDHeVVl"
      }
    },
    {
      "cell_type": "markdown",
      "source": [
        "Here we research some holyday-patterns."
      ],
      "metadata": {
        "id": "ug_A0cEWyYCz"
      }
    },
    {
      "cell_type": "code",
      "source": [
        "import pandas as pd\n",
        "import requests\n",
        "import io\n",
        "\n",
        "def make_drive_url(file_id):\n",
        "    return f\"https://drive.google.com/uc?id={file_id}\"\n",
        "\n",
        "def load_csv_from_url(url):\n",
        "    response = requests.get(url)\n",
        "    response.raise_for_status()\n",
        "    return pd.read_csv(io.StringIO(response.text))\n",
        "\n",
        "file_ids = {\n",
        "    \"holiday_events\": \"1RMjSuqHXHTwAw_PGD5XVjhA3agaAGHDH\",\n",
        "    \"items\": \"1ogMRixVhNY6XOJtIRtkRllyOyzw1nqya\",\n",
        "    \"oil\": \"1Q59vk2v4WQ-Rpc9t2nqHcsZM3QWGFje_\",\n",
        "    \"stores\": \"1Ei0MUXmNhmOcmrlPad8oklnFEDM95cDi\",\n",
        "    \"train\": \"1oEX8NEJPY7wPmSJ0n7lO1JUFYyZjFBRv\",\n",
        "    \"transactions\": \"1PW5LnAEAiL43fI5CRDn_h6pgDG5rtBW_\"\n",
        "}\n",
        "\n",
        "df_holiday_events = load_csv_from_url(make_drive_url(file_ids[\"holiday_events\"]))"
      ],
      "metadata": {
        "id": "5OqD2rnbdfms"
      },
      "execution_count": null,
      "outputs": []
    },
    {
      "cell_type": "code",
      "source": [
        "import matplotlib.pyplot as plt\n",
        "import matplotlib.dates as mdates\n",
        "\n",
        "month_data = df[(df[\"date\"] >= \"2016-10-01\") &\n",
        "                     (df[\"date\"] <= \"2016-11-30\")]\n",
        "\n",
        "daily_sales = month_data.groupby(\"date\")[\"unit_sales\"].sum().reset_index()\n",
        "\n",
        "fig, ax = plt.subplots(figsize=(12,6))\n",
        "\n",
        "ax.plot(daily_sales[\"date\"], daily_sales[\"unit_sales\"], marker=\"o\", label=\"Summe Unit Sales\")\n",
        "\n",
        "for d in daily_sales[\"date\"]:\n",
        "    dow = d.dayofweek\n",
        "    if dow in [5,6]:\n",
        "        ax.axvspan(d - pd.Timedelta(0.5, \"D\"), d + pd.Timedelta(0.5, \"D\"),\n",
        "                   color=\"lightgrey\", alpha=0.3)\n",
        "\n",
        "holiday_dates = month_data.loc[month_data[\"is_holiday\"], \"date\"].unique()\n",
        "ax.scatter(holiday_dates,\n",
        "           daily_sales.loc[daily_sales[\"date\"].isin(holiday_dates), \"unit_sales\"],\n",
        "           color=\"red\", s=80, label=\"Holiday\")\n",
        "\n",
        "ax.set_title(\"Tägliche Verkäufe (Summen) mit Wochenenden & Holidays – Okt 2016\")\n",
        "ax.set_xlabel(\"Datum\")\n",
        "ax.set_ylabel(\"Unit Sales (Summe)\")\n",
        "ax.xaxis.set_major_formatter(mdates.DateFormatter(\"%d-%b\"))\n",
        "ax.legend()\n",
        "\n",
        "plt.show()\n",
        "\n"
      ],
      "metadata": {
        "colab": {
          "base_uri": "https://localhost:8080/",
          "height": 555
        },
        "id": "p6CG8DKieoAQ",
        "outputId": "66b69491-6924-4ab2-b738-2a04e51ab314"
      },
      "execution_count": null,
      "outputs": [
        {
          "output_type": "display_data",
          "data": {
            "text/plain": [
              "<Figure size 1200x600 with 1 Axes>"
            ],
            "image/png": "[encoded data removed]"
          },
          "metadata": {}
        }
      ]
    },
    {
      "cell_type": "code",
      "source": [
        "df.isnull().sum()"
      ],
      "metadata": {
        "colab": {
          "base_uri": "https://localhost:8080/",
          "height": 458
        },
        "id": "xZQRVUIBtIGC",
        "outputId": "90b0a172-9f78-487e-ff42-9dde8fa37893"
      },
      "execution_count": null,
      "outputs": [
        {
          "output_type": "execute_result",
          "data": {
            "text/plain": [
              "date           0\n",
              "id             0\n",
              "store_nbr      0\n",
              "item_nbr       0\n",
              "unit_sales     0\n",
              "              ..\n",
              "promo_dow_2    0\n",
              "promo_dow_3    0\n",
              "promo_dow_4    0\n",
              "promo_dow_5    0\n",
              "promo_dow_6    0\n",
              "Length: 74, dtype: int64"
            ],
            "text/html": [
              "<div>\n",
              "<style scoped>\n",
              "    .dataframe tbody tr th:only-of-type {\n",
              "        vertical-align: middle;\n",
              "    }\n",
              "\n",
              "    .dataframe tbody tr th {\n",
              "        vertical-align: top;\n",
              "    }\n",
              "\n",
              "    .dataframe thead th {\n",
              "        text-align: right;\n",
              "    }\n",
              "</style>\n",
              "<table border=\"1\" class=\"dataframe\">\n",
              "  <thead>\n",
              "    <tr style=\"text-align: right;\">\n",
              "      <th></th>\n",
              "      <th>0</th>\n",
              "    </tr>\n",
              "  </thead>\n",
              "  <tbody>\n",
              "    <tr>\n",
              "      <th>date</th>\n",
              "      <td>0</td>\n",
              "    </tr>\n",
              "    <tr>\n",
              "      <th>id</th>\n",
              "      <td>0</td>\n",
              "    </tr>\n",
              "    <tr>\n",
              "      <th>store_nbr</th>\n",
              "      <td>0</td>\n",
              "    </tr>\n",
              "    <tr>\n",
              "      <th>item_nbr</th>\n",
              "      <td>0</td>\n",
              "    </tr>\n",
              "    <tr>\n",
              "      <th>unit_sales</th>\n",
              "      <td>0</td>\n",
              "    </tr>\n",
              "    <tr>\n",
              "      <th>...</th>\n",
              "      <td>...</td>\n",
              "    </tr>\n",
              "    <tr>\n",
              "      <th>promo_dow_2</th>\n",
              "      <td>0</td>\n",
              "    </tr>\n",
              "    <tr>\n",
              "      <th>promo_dow_3</th>\n",
              "      <td>0</td>\n",
              "    </tr>\n",
              "    <tr>\n",
              "      <th>promo_dow_4</th>\n",
              "      <td>0</td>\n",
              "    </tr>\n",
              "    <tr>\n",
              "      <th>promo_dow_5</th>\n",
              "      <td>0</td>\n",
              "    </tr>\n",
              "    <tr>\n",
              "      <th>promo_dow_6</th>\n",
              "      <td>0</td>\n",
              "    </tr>\n",
              "  </tbody>\n",
              "</table>\n",
              "<p>74 rows × 1 columns</p>\n",
              "</div><br><label><b>dtype:</b> int64</label>"
            ]
          },
          "metadata": {},
          "execution_count": 39
        }
      ]
    },
    {
      "cell_type": "code",
      "source": [
        "print(\"Shape:\", df.shape)\n",
        "print(df.info(memory_usage=\"deep\"))\n",
        "print(df.head(3).T)\n"
      ],
      "metadata": {
        "id": "a0j6MTo7fZX5",
        "colab": {
          "base_uri": "https://localhost:8080/"
        },
        "outputId": "ffd6b0df-95ea-4055-d09f-5793bdc970cd"
      },
      "execution_count": null,
      "outputs": [
        {
          "output_type": "stream",
          "name": "stdout",
          "text": [
            "Shape: (77841, 74)\n",
            "<class 'pandas.core.frame.DataFrame'>\n",
            "RangeIndex: 77841 entries, 0 to 77840\n",
            "Data columns (total 74 columns):\n",
            " #   Column                    Non-Null Count  Dtype         \n",
            "---  ------                    --------------  -----         \n",
            " 0   date                      77841 non-null  datetime64[ns]\n",
            " 1   id                        77841 non-null  int64         \n",
            " 2   store_nbr                 77841 non-null  int64         \n",
            " 3   item_nbr                  77841 non-null  int64         \n",
            " 4   unit_sales                77841 non-null  float64       \n",
            " 5   onpromotion               77841 non-null  bool          \n",
            " 6   year                      77841 non-null  int32         \n",
            " 7   month                     77841 non-null  int32         \n",
            " 8   day                       77841 non-null  int32         \n",
            " 9   day_of_week               77841 non-null  int32         \n",
            " 10  city                      77841 non-null  category      \n",
            " 11  type                      77841 non-null  category      \n",
            " 12  cluster                   77841 non-null  category      \n",
            " 13  some_holiday              77841 non-null  bool          \n",
            " 14  is_bridge                 77841 non-null  bool          \n",
            " 15  is_transfer               77841 non-null  bool          \n",
            " 16  is_work_day               77841 non-null  bool          \n",
            " 17  is_holiday                77841 non-null  bool          \n",
            " 18  class                     77841 non-null  int64         \n",
            " 19  lag_1                     77709 non-null  float64       \n",
            " 20  lag_7                     76941 non-null  float64       \n",
            " 21  lag_14                    76049 non-null  float64       \n",
            " 22  lag_28                    74274 non-null  float64       \n",
            " 23  roll_mean_7               76941 non-null  float64       \n",
            " 24  roll_std_7                76941 non-null  float64       \n",
            " 25  roll_mean_14              76049 non-null  float64       \n",
            " 26  roll_std_14               76049 non-null  float64       \n",
            " 27  roll_mean_28              74274 non-null  float64       \n",
            " 28  roll_std_28               74274 non-null  float64       \n",
            " 29  ewm_7                     77709 non-null  float64       \n",
            " 30  ewm_28                    77709 non-null  float64       \n",
            " 31  days_since_sale           77841 non-null  int64         \n",
            " 32  days_since_promo          77841 non-null  int64         \n",
            " 33  weekofyear                77841 non-null  int16         \n",
            " 34  quarter                   77841 non-null  int8          \n",
            " 35  is_month_end              77841 non-null  bool          \n",
            " 36  is_month_start            77841 non-null  bool          \n",
            " 37  day_is_5                  77841 non-null  bool          \n",
            " 38  day_is_10                 77841 non-null  bool          \n",
            " 39  day_is_15                 77841 non-null  bool          \n",
            " 40  day_is_20                 77841 non-null  bool          \n",
            " 41  day_is_25                 77841 non-null  bool          \n",
            " 42  day_is_30                 77841 non-null  bool          \n",
            " 43  days_since_holiday        77841 non-null  int64         \n",
            " 44  days_to_next_holiday      77841 non-null  int64         \n",
            " 45  first_open_after_holiday  77841 non-null  bool          \n",
            " 46  second_day_after_holiday  77841 non-null  bool          \n",
            " 47  third_day_after_holiday   77841 non-null  bool          \n",
            " 48  near_holiday_3            77841 non-null  bool          \n",
            " 49  near_holiday_7            77841 non-null  bool          \n",
            " 50  promo_rollsum_7           76941 non-null  float32       \n",
            " 51  promo_rollsum_14          76049 non-null  float32       \n",
            " 52  is_weekend                77841 non-null  bool          \n",
            " 53  promo_x_weekend           77841 non-null  bool          \n",
            " 54  item_avg_sales            77841 non-null  float32       \n",
            " 55  month_sin                 77841 non-null  float64       \n",
            " 56  month_cos                 77841 non-null  float64       \n",
            " 57  promo_lag_1               77838 non-null  object        \n",
            " 58  promo_lag_7               77820 non-null  object        \n",
            " 59  promo_x_dow               77841 non-null  int32         \n",
            " 60  dow_0                     77841 non-null  bool          \n",
            " 61  dow_1                     77841 non-null  bool          \n",
            " 62  dow_2                     77841 non-null  bool          \n",
            " 63  dow_3                     77841 non-null  bool          \n",
            " 64  dow_4                     77841 non-null  bool          \n",
            " 65  dow_5                     77841 non-null  bool          \n",
            " 66  dow_6                     77841 non-null  bool          \n",
            " 67  promo_dow_0               77841 non-null  bool          \n",
            " 68  promo_dow_1               77841 non-null  bool          \n",
            " 69  promo_dow_2               77841 non-null  bool          \n",
            " 70  promo_dow_3               77841 non-null  bool          \n",
            " 71  promo_dow_4               77841 non-null  bool          \n",
            " 72  promo_dow_5               77841 non-null  bool          \n",
            " 73  promo_dow_6               77841 non-null  bool          \n",
            "dtypes: bool(35), category(3), datetime64[ns](1), float32(3), float64(15), int16(1), int32(5), int64(8), int8(1), object(2)\n",
            "memory usage: 25.0 MB\n",
            "None\n",
            "                               0                    1                    2\n",
            "date         2015-06-01 00:00:00  2015-06-02 00:00:00  2015-06-03 00:00:00\n",
            "id                      47899618             47980434             48060600\n",
            "store_nbr                      1                    1                    1\n",
            "item_nbr                 1473474              1473474              1473474\n",
            "unit_sales               107.636               93.536              224.225\n",
            "...                          ...                  ...                  ...\n",
            "promo_dow_2                False                False                 True\n",
            "promo_dow_3                False                False                False\n",
            "promo_dow_4                False                False                False\n",
            "promo_dow_5                False                False                False\n",
            "promo_dow_6                False                False                False\n",
            "\n",
            "[74 rows x 3 columns]\n"
          ]
        }
      ]
    },
    {
      "cell_type": "markdown",
      "source": [
        "## NaN-Values"
      ],
      "metadata": {
        "id": "yn85k6u372G5"
      }
    },
    {
      "cell_type": "markdown",
      "source": [
        "Save the forecast set (with NaNs)"
      ],
      "metadata": {
        "id": "z3IDxdEby6Tw"
      }
    },
    {
      "cell_type": "code",
      "source": [
        "#df.to_parquet(\"/content/drive/MyDrive/Time Series/produce2015-2017_forecast_ohnerank1.parquet\", compression=\"zstd\", engine=\"pyarrow\")"
      ],
      "metadata": {
        "id": "aMZ2yLa7gUhm"
      },
      "execution_count": null,
      "outputs": []
    },
    {
      "cell_type": "markdown",
      "source": [
        "NaN handling for the train set"
      ],
      "metadata": {
        "id": "ekOrwEZ3zEZ1"
      }
    },
    {
      "cell_type": "code",
      "source": [
        "df.isna().sum().sort_values(ascending=False)\n",
        "\n",
        "nan_positions = df[df[\"lag_28\"].isna()].groupby(\"item_nbr\")[\"date\"].min()\n",
        "print(nan_positions.head(10))\n"
      ],
      "metadata": {
        "colab": {
          "base_uri": "https://localhost:8080/"
        },
        "id": "HSVo8t5s26ys",
        "outputId": "e140dc5d-b935-4697-9f0b-18c432f61220"
      },
      "execution_count": null,
      "outputs": [
        {
          "output_type": "stream",
          "name": "stdout",
          "text": [
            "item_nbr\n",
            "1473474   2015-06-01\n",
            "1503844   2015-06-01\n",
            "1695835   2015-06-01\n",
            "Name: date, dtype: datetime64[ns]\n"
          ]
        }
      ]
    },
    {
      "cell_type": "code",
      "source": [
        "df.isna().sum().sort_values(ascending=False)"
      ],
      "metadata": {
        "colab": {
          "base_uri": "https://localhost:8080/",
          "height": 458
        },
        "id": "gBkta8mX7oYb",
        "outputId": "b23e38b2-fa78-4628-9d92-67c122827123"
      },
      "execution_count": null,
      "outputs": [
        {
          "output_type": "execute_result",
          "data": {
            "text/plain": [
              "roll_mean_28    3567\n",
              "lag_28          3567\n",
              "roll_std_28     3567\n",
              "lag_14          1792\n",
              "roll_std_14     1792\n",
              "                ... \n",
              "promo_dow_2        0\n",
              "promo_dow_3        0\n",
              "promo_dow_4        0\n",
              "promo_dow_5        0\n",
              "promo_dow_6        0\n",
              "Length: 74, dtype: int64"
            ],
            "text/html": [
              "<div>\n",
              "<style scoped>\n",
              "    .dataframe tbody tr th:only-of-type {\n",
              "        vertical-align: middle;\n",
              "    }\n",
              "\n",
              "    .dataframe tbody tr th {\n",
              "        vertical-align: top;\n",
              "    }\n",
              "\n",
              "    .dataframe thead th {\n",
              "        text-align: right;\n",
              "    }\n",
              "</style>\n",
              "<table border=\"1\" class=\"dataframe\">\n",
              "  <thead>\n",
              "    <tr style=\"text-align: right;\">\n",
              "      <th></th>\n",
              "      <th>0</th>\n",
              "    </tr>\n",
              "  </thead>\n",
              "  <tbody>\n",
              "    <tr>\n",
              "      <th>roll_mean_28</th>\n",
              "      <td>3567</td>\n",
              "    </tr>\n",
              "    <tr>\n",
              "      <th>lag_28</th>\n",
              "      <td>3567</td>\n",
              "    </tr>\n",
              "    <tr>\n",
              "      <th>roll_std_28</th>\n",
              "      <td>3567</td>\n",
              "    </tr>\n",
              "    <tr>\n",
              "      <th>lag_14</th>\n",
              "      <td>1792</td>\n",
              "    </tr>\n",
              "    <tr>\n",
              "      <th>roll_std_14</th>\n",
              "      <td>1792</td>\n",
              "    </tr>\n",
              "    <tr>\n",
              "      <th>...</th>\n",
              "      <td>...</td>\n",
              "    </tr>\n",
              "    <tr>\n",
              "      <th>promo_dow_2</th>\n",
              "      <td>0</td>\n",
              "    </tr>\n",
              "    <tr>\n",
              "      <th>promo_dow_3</th>\n",
              "      <td>0</td>\n",
              "    </tr>\n",
              "    <tr>\n",
              "      <th>promo_dow_4</th>\n",
              "      <td>0</td>\n",
              "    </tr>\n",
              "    <tr>\n",
              "      <th>promo_dow_5</th>\n",
              "      <td>0</td>\n",
              "    </tr>\n",
              "    <tr>\n",
              "      <th>promo_dow_6</th>\n",
              "      <td>0</td>\n",
              "    </tr>\n",
              "  </tbody>\n",
              "</table>\n",
              "<p>74 rows × 1 columns</p>\n",
              "</div><br><label><b>dtype:</b> int64</label>"
            ]
          },
          "metadata": {},
          "execution_count": 43
        }
      ]
    },
    {
      "cell_type": "markdown",
      "source": [
        "We drop the first 28 days to remove most NaN values from lag/rolling features and save the train set."
      ],
      "metadata": {
        "id": "BwiImYNv43NJ"
      }
    },
    {
      "cell_type": "code",
      "source": [
        "feature_cols = [\n",
        "    \"lag_1\",\"lag_7\",\"lag_14\",\"lag_28\",\n",
        "    \"roll_mean_7\",\"roll_std_7\",\n",
        "    \"roll_mean_14\",\"roll_std_14\",\n",
        "    \"roll_mean_28\",\"roll_std_28\",\n",
        "    \"ewm_7\",\"ewm_28\",\n",
        "    \"promo_rollsum_7\",\"promo_rollsum_14\"\n",
        "]\n",
        "\n",
        "df_train = df.copy()\n",
        "\n",
        "min_valid_date = df_train[\"date\"].min() + pd.Timedelta(days=28)\n",
        "df_train = df_train[df_train[\"date\"] >= min_valid_date].copy()\n",
        "\n",
        "df_train[feature_cols] = df_train[feature_cols].fillna(0)\n",
        "\n",
        "#df_train.to_parquet(\n",
        "    #\"/content/drive/MyDrive/Time Series/produce_2015_2017_train_ohnerank1.parquet\",\n",
        "    #compression=\"zstd\", engine=\"pyarrow\"\n",
        ")\n",
        "\n",
        "# Kontrolle\n",
        "print(\"Forecast shape:\", df.shape)\n",
        "print(\"Train shape:\", df_train.shape)\n",
        "print(\"→ Restliche NaNs in Train:\", df_train[feature_cols].isna().sum().sum())\n"
      ],
      "metadata": {
        "colab": {
          "base_uri": "https://localhost:8080/"
        },
        "id": "EsOVkhAc8HgU",
        "outputId": "c4633a3e-c68a-401e-e847-bc74fc9d6cd1"
      },
      "execution_count": null,
      "outputs": [
        {
          "output_type": "stream",
          "name": "stdout",
          "text": [
            "Forecast shape: (77841, 74)\n",
            "Train shape: (74897, 74)\n",
            "→ Restliche NaNs in Train: 0\n"
          ]
        }
      ]
    },
    {
      "cell_type": "code",
      "source": [
        "diff_rows = df.shape[0] - df_train.shape[0]\n",
        "print(f\"→ Entfernte Zeilen durch dropna(): {diff_rows}\")"
      ],
      "metadata": {
        "colab": {
          "base_uri": "https://localhost:8080/"
        },
        "id": "Vjdy23ty8iTa",
        "outputId": "eb53615d-3d9a-46f9-e1eb-310441c3aafa"
      },
      "execution_count": null,
      "outputs": [
        {
          "output_type": "stream",
          "name": "stdout",
          "text": [
            "→ Entfernte Zeilen durch dropna(): 2944\n"
          ]
        }
      ]
    }
  ]
}